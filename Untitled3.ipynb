{
 "cells": [
  {
   "cell_type": "code",
   "execution_count": 1,
   "id": "9191e23f",
   "metadata": {},
   "outputs": [
    {
     "name": "stdout",
     "output_type": "stream",
     "text": [
      "Your user code: SPCH-PLHT\n",
      "If a browser doesn't automatically open, please visit the url: https://classiq.eu.auth0.com/activate?user_code=SPCH-PLHT\n"
     ]
    }
   ],
   "source": [
    "import classiq\n",
    "classiq.authenticate()\n"
   ]
  },
  {
   "cell_type": "code",
   "execution_count": 2,
   "id": "d42cfb2d",
   "metadata": {},
   "outputs": [
    {
     "name": "stdout",
     "output_type": "stream",
     "text": [
      "Opening: https://platform.classiq.io/circuit/84257c8b-fd19-4815-a757-84d7883c5ee2?version=0.24.0\n"
     ]
    }
   ],
   "source": [
    "from classiq import Executor, Model\n",
    "from classiq.builtin_functions import StatePreparation\n",
    "from classiq.execution import IBMBackendPreferences\n",
    "\n",
    "# defining probabilities\n",
    "probabilities = [0.4, 0.05, 0.2, 0.05, 0.3, 0, 0, 0]\n",
    "\n",
    "# defining state preparation object\n",
    "sp = StatePreparation(\n",
    "    probabilities=probabilities, error_metric={\"KL\": {\"upper_bound\": 0.3}}\n",
    ")\n",
    "\n",
    "# defining the model\n",
    "model = Model()\n",
    "\n",
    "# wiring\n",
    "model.StatePreparation(params=sp)\n",
    "\n",
    "# synthesizing\n",
    "circuit = model.synthesize()\n",
    "\n",
    "# showing circuit\n",
    "circuit.show()"
   ]
  },
  {
   "cell_type": "code",
   "execution_count": null,
   "id": "2b588ad4",
   "metadata": {},
   "outputs": [],
   "source": []
  }
 ],
 "metadata": {
  "kernelspec": {
   "display_name": "Python 3 (ipykernel)",
   "language": "python",
   "name": "python3"
  },
  "language_info": {
   "codemirror_mode": {
    "name": "ipython",
    "version": 3
   },
   "file_extension": ".py",
   "mimetype": "text/x-python",
   "name": "python",
   "nbconvert_exporter": "python",
   "pygments_lexer": "ipython3",
   "version": "3.9.0"
  }
 },
 "nbformat": 4,
 "nbformat_minor": 5
}
