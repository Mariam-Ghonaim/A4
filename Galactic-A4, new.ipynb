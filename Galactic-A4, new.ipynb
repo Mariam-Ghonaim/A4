{
 "cells": [
  {
   "cell_type": "code",
   "execution_count": null,
   "id": "beee1c5b",
   "metadata": {},
   "outputs": [],
   "source": [
    "import csv\n",
    "import numpy as np\n",
    "\n",
    "derad_r = []\n",
    "with open('Skyserver_Cross.csv') as csv_file:\n",
    "    csv_reader = csv.reader(csv_file)\n",
    "    next (csv_reader)\n",
    "    for line in csv_reader:\n",
    "        derad_r.append(line[5])"
   ]
  },
  {
   "cell_type": "code",
   "execution_count": null,
   "id": "d083ee77",
   "metadata": {},
   "outputs": [],
   "source": []
  }
 ],
 "metadata": {
  "kernelspec": {
   "display_name": "Python 3 (ipykernel)",
   "language": "python",
   "name": "python3"
  },
  "language_info": {
   "codemirror_mode": {
    "name": "ipython",
    "version": 3
   },
   "file_extension": ".py",
   "mimetype": "text/x-python",
   "name": "python",
   "nbconvert_exporter": "python",
   "pygments_lexer": "ipython3",
   "version": "3.9.0"
  }
 },
 "nbformat": 4,
 "nbformat_minor": 5
}
